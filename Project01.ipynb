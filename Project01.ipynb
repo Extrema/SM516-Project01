from sympy import *
init_printing()
x, y, z = symbols('x y z')
expr = exp(x*y*z)
partd = Derivative(expr, x, 3, y, 7, z, 10)
Eq(partd, partd.doit())
x+y
expr = Integral(exp(-x)*sin(x), x)
Eq(expr, expr.doit())
a